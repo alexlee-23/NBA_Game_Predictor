{
 "cells": [
  {
   "cell_type": "markdown",
   "metadata": {},
   "source": [
    "## Load Data ##"
   ]
  },
  {
   "cell_type": "code",
   "execution_count": 1,
   "metadata": {},
   "outputs": [],
   "source": [
    "## Load pickle files and apply label encoding on team id ##\n",
    "\n",
    "import pickle\n",
    "import pandas as pd\n",
    "import numpy as np\n",
    "\n",
    "with open('NBA_Data_Cleaned_df.pickle', 'rb') as file:\n",
    "    nba_df = pickle.load(file)\n",
    "\n",
    "with open('teamID_mappings.pickle', 'rb') as file:\n",
    "    team_mappings = pickle.load(file)\n",
    "    teamID_newID_dict = team_mappings['teamID_newID_dict']\n",
    "    \n",
    "nba_df[['team_id_home', 'team_id_away']] = nba_df[['team_id_home', 'team_id_away']].replace(teamID_newID_dict)"
   ]
  },
  {
   "cell_type": "code",
   "execution_count": 5,
   "metadata": {},
   "outputs": [
    {
     "name": "stdout",
     "output_type": "stream",
     "text": [
      "[[10.    95.     0.505 ...  1.     0.     0.   ]\n",
      " [18.    93.     0.484 ...  1.     3.     3.   ]\n",
      " [18.    89.     0.528 ...  1.     6.     6.   ]\n",
      " ...\n",
      " [11.    92.     0.37  ...  1.     3.     3.   ]\n",
      " [11.    78.     0.449 ...  1.     2.     2.   ]\n",
      " [ 6.    84.     0.452 ...  1.     3.     3.   ]]\n",
      "[0 0 0 ... 0 0 1]\n"
     ]
    }
   ],
   "source": [
    "import pickle\n",
    "import pandas as pd\n",
    "import numpy as np\n",
    "\n",
    "def loadNbaData():\n",
    "    with open('NBA_Data_Cleaned_df.pickle', 'rb') as file:\n",
    "        nba_df = pickle.load(file)\n",
    "\n",
    "    with open('teamID_mappings.pickle', 'rb') as file:\n",
    "        team_mappings = pickle.load(file)\n",
    "        teamID_newID_dict = team_mappings['teamID_newID_dict']\n",
    "        \n",
    "    nba_df[['team_id_home', 'team_id_away']] = nba_df[['team_id_home', 'team_id_away']].replace(teamID_newID_dict)\n",
    "\n",
    "    X_df = nba_df.drop(columns=['season_id', 'new_season_id', 'wl_home', 'game_date'])\n",
    "    y_df = nba_df.loc[ : , 'wl_home' ]\n",
    "\n",
    "    X = X_df.to_numpy()\n",
    "    y = y_df.to_numpy()\n",
    "\n",
    "    return X,y\n",
    "\n",
    "X,y = loadNbaData()\n",
    "\n",
    "print(X)\n",
    "print(y)\n"
   ]
  }
 ],
 "metadata": {
  "kernelspec": {
   "display_name": "cs5100",
   "language": "python",
   "name": "python3"
  },
  "language_info": {
   "codemirror_mode": {
    "name": "ipython",
    "version": 3
   },
   "file_extension": ".py",
   "mimetype": "text/x-python",
   "name": "python",
   "nbconvert_exporter": "python",
   "pygments_lexer": "ipython3",
   "version": "3.11.10"
  }
 },
 "nbformat": 4,
 "nbformat_minor": 2
}
