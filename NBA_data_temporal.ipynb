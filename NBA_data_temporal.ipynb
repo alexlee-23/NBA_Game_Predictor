{
 "cells": [
  {
   "cell_type": "code",
   "execution_count": 1,
   "metadata": {},
   "outputs": [
    {
     "name": "stdout",
     "output_type": "stream",
     "text": [
      "Index(['season_id', 'team_id_home', 'team_abbreviation_home', 'team_name_home',\n",
      "       'game_id', 'game_date', 'matchup_home', 'wl_home', 'min', 'fgm_home',\n",
      "       'fga_home', 'fg_pct_home', 'fg3m_home', 'fg3a_home', 'fg3_pct_home',\n",
      "       'ftm_home', 'fta_home', 'ft_pct_home', 'oreb_home', 'dreb_home',\n",
      "       'reb_home', 'ast_home', 'stl_home', 'blk_home', 'tov_home', 'pf_home',\n",
      "       'pts_home', 'plus_minus_home', 'video_available_home', 'team_id_away',\n",
      "       'team_abbreviation_away', 'team_name_away', 'matchup_away', 'wl_away',\n",
      "       'fgm_away', 'fga_away', 'fg_pct_away', 'fg3m_away', 'fg3a_away',\n",
      "       'fg3_pct_away', 'ftm_away', 'fta_away', 'ft_pct_away', 'oreb_away',\n",
      "       'dreb_away', 'reb_away', 'ast_away', 'stl_away', 'blk_away', 'tov_away',\n",
      "       'pf_away', 'pts_away', 'plus_minus_away', 'video_available_away',\n",
      "       'season_type'],\n",
      "      dtype='object')\n"
     ]
    }
   ],
   "source": [
    "import pandas as pd\n",
    "import numpy as np\n",
    "import os\n",
    "\n",
    "relative_filepath = \"NBA_Data\" + os.sep + \"csv\" + os.sep + \"game.csv\"\n",
    "game_df = pd.read_csv(relative_filepath)\n",
    "\n",
    "# Show all column names\n",
    "print(game_df.columns)"
   ]
  },
  {
   "cell_type": "markdown",
   "metadata": {},
   "source": [
    "### Drop all null values in data that we will train on ###"
   ]
  },
  {
   "cell_type": "code",
   "execution_count": 2,
   "metadata": {},
   "outputs": [],
   "source": [
    "filter_out_null_stats_df = game_df.dropna(subset=['fg3m_home', 'fg3a_home', 'fg3_pct_home', 'fg3m_away', 'fg3a_away', 'fg3_pct_away', 'oreb_home', 'dreb_home', 'ast_home', 'stl_home', 'blk_home', 'tov_home', 'pf_home', 'pts_home', 'oreb_away', 'dreb_away', 'ast_away', 'stl_away', 'blk_away', 'tov_away', 'pf_away', 'pts_away'])"
   ]
  },
  {
   "cell_type": "markdown",
   "metadata": {},
   "source": [
    "### Remove All star and pre-season games, will not count those in our model ###"
   ]
  },
  {
   "cell_type": "code",
   "execution_count": 3,
   "metadata": {},
   "outputs": [
    {
     "name": "stdout",
     "output_type": "stream",
     "text": [
      "['Playoffs' 'All-Star' 'All Star' 'Regular Season' 'Pre Season']\n",
      "5\n",
      "After filtering...\n",
      "['Playoffs' 'Regular Season']\n",
      "2\n"
     ]
    }
   ],
   "source": [
    "# Now let us find season type to see what we have to remove\n",
    "\n",
    "season_types = filter_out_null_stats_df['season_type'].unique()\n",
    "print(season_types)\n",
    "print(len(season_types))\n",
    "\n",
    "filtered_df = filter_out_null_stats_df.loc[~( (filter_out_null_stats_df['season_type'] == 'Pre Season') | (filter_out_null_stats_df['season_type'] == 'All Star') | (filter_out_null_stats_df['season_type'] == 'All-Star'))]\n",
    "\n",
    "print(\"After filtering...\")\n",
    "season_types = filtered_df['season_type'].unique()\n",
    "print(season_types)\n",
    "print(len(season_types))\n",
    "\n",
    "filtered_df = filtered_df.reset_index()"
   ]
  },
  {
   "cell_type": "code",
   "execution_count": 4,
   "metadata": {},
   "outputs": [
    {
     "name": "stdout",
     "output_type": "stream",
     "text": [
      "Index(['index', 'season_id', 'team_id_home', 'team_abbreviation_home',\n",
      "       'team_name_home', 'game_id', 'game_date', 'matchup_home', 'wl_home',\n",
      "       'min', 'fgm_home', 'fga_home', 'fg_pct_home', 'fg3m_home', 'fg3a_home',\n",
      "       'fg3_pct_home', 'ftm_home', 'fta_home', 'ft_pct_home', 'oreb_home',\n",
      "       'dreb_home', 'reb_home', 'ast_home', 'stl_home', 'blk_home', 'tov_home',\n",
      "       'pf_home', 'pts_home', 'plus_minus_home', 'video_available_home',\n",
      "       'team_id_away', 'team_abbreviation_away', 'team_name_away',\n",
      "       'matchup_away', 'wl_away', 'fgm_away', 'fga_away', 'fg_pct_away',\n",
      "       'fg3m_away', 'fg3a_away', 'fg3_pct_away', 'ftm_away', 'fta_away',\n",
      "       'ft_pct_away', 'oreb_away', 'dreb_away', 'reb_away', 'ast_away',\n",
      "       'stl_away', 'blk_away', 'tov_away', 'pf_away', 'pts_away',\n",
      "       'plus_minus_away', 'video_available_away', 'season_type'],\n",
      "      dtype='object')\n",
      "['Playoffs' 'Regular Season']\n"
     ]
    }
   ],
   "source": [
    "print(filtered_df.columns)\n",
    "print(filtered_df['season_type'].unique())"
   ]
  },
  {
   "cell_type": "markdown",
   "metadata": {},
   "source": [
    "### Update all outdated team names to new ones ###"
   ]
  },
  {
   "cell_type": "code",
   "execution_count": 5,
   "metadata": {},
   "outputs": [
    {
     "name": "stdout",
     "output_type": "stream",
     "text": [
      "{1610612737: 'ATL', 1610612738: 'BOS', 1610612739: 'CLE', 1610612740: 'NOP', 1610612741: 'CHI', 1610612742: 'DAL', 1610612743: 'DEN', 1610612744: 'GSW', 1610612745: 'HOU', 1610612746: 'LAC', 1610612747: 'LAL', 1610612748: 'MIA', 1610612749: 'MIL', 1610612750: 'MIN', 1610612751: 'BKN', 1610612752: 'NYK', 1610612753: 'ORL', 1610612754: 'IND', 1610612755: 'PHI', 1610612756: 'PHX', 1610612757: 'POR', 1610612758: 'SAC', 1610612759: 'SAS', 1610612760: 'OKC', 1610612761: 'TOR', 1610612762: 'UTA', 1610612763: 'MEM', 1610612764: 'WAS', 1610612765: 'DET', 1610612766: 'CHA'}\n",
      "{1610612737: 0, 1610612738: 1, 1610612739: 2, 1610612740: 3, 1610612741: 4, 1610612742: 5, 1610612743: 6, 1610612744: 7, 1610612745: 8, 1610612746: 9, 1610612747: 10, 1610612748: 11, 1610612749: 12, 1610612750: 13, 1610612751: 14, 1610612752: 15, 1610612753: 16, 1610612754: 17, 1610612755: 18, 1610612756: 19, 1610612757: 20, 1610612758: 21, 1610612759: 22, 1610612760: 23, 1610612761: 24, 1610612762: 25, 1610612763: 26, 1610612764: 27, 1610612765: 28, 1610612766: 29}\n"
     ]
    }
   ],
   "source": [
    "## Convert old team abbreviations to new\n",
    "name_abbreviation = filtered_df.groupby(['team_name_home', 'team_abbreviation_home']).agg({'game_id': 'count'}).reset_index()\n",
    "id_abbreviation = filtered_df.groupby(['team_id_home', 'team_abbreviation_home']).agg({'game_id': 'count'}).reset_index()\n",
    "id_abbreviation_away = filtered_df.groupby(['team_id_away', 'team_abbreviation_away']).agg({'game_id': 'count'}).reset_index()\n",
    "\n",
    "abbreviation_correction_mapping_dict = {\n",
    "    'CHH' : 'CHA',\n",
    "    'GOS' : 'GSW',\n",
    "    'NJN' : 'BKN',\n",
    "    'NOH' : 'NOP',\n",
    "    'NOK' : 'NOP',\n",
    "    'PHL' : 'PHI',\n",
    "    'SEA' : 'OKC',\n",
    "    'SAN' : 'SAS',\n",
    "    'UTH' : 'UTA',\n",
    "    'VAN' : 'MEM'\n",
    "}\n",
    "\n",
    "id_abbreviation['team_abbreviation_home'] = id_abbreviation['team_abbreviation_home'].replace(abbreviation_correction_mapping_dict)\n",
    "id_abbreviation = id_abbreviation.groupby(['team_id_home', 'team_abbreviation_home']).sum('game_id').reset_index()\n",
    "\n",
    "id_abbreviation_away['team_abbreviation_away'] = id_abbreviation_away['team_abbreviation_away'].replace(abbreviation_correction_mapping_dict)\n",
    "id_abbreviation_away = id_abbreviation_away.groupby(['team_id_away', 'team_abbreviation_away']).sum('game_id').reset_index()\n",
    "\n",
    "# print(id_abbreviation)\n",
    "# print(id_abbreviation_away)\n",
    "\n",
    "teamID_abbreviation_df = id_abbreviation.drop('game_id', axis=1)\n",
    "teamID_abbreviation_df = teamID_abbreviation_df.set_index('team_id_home')\n",
    "teamID_abbreviation_dict = teamID_abbreviation_df.to_dict(orient='index')\n",
    "teamID_abbreviation_dict = { k: v['team_abbreviation_home'] for k, v in teamID_abbreviation_dict.items() }\n",
    "teamID_newID_dict = { real_team_id : new_team_id  for new_team_id, (real_team_id, team_abbrev) in enumerate(teamID_abbreviation_dict.items()) }\n",
    "\n",
    "print(teamID_abbreviation_dict)\n",
    "print(teamID_newID_dict)\n",
    "\n",
    "teamID_mappings = {'teamID_abbreviation_dict' : teamID_abbreviation_dict, 'teamID_newID_dict': teamID_newID_dict}\n"
   ]
  },
  {
   "cell_type": "markdown",
   "metadata": {},
   "source": [
    "### Calculate Rest Days ###"
   ]
  },
  {
   "cell_type": "code",
   "execution_count": 6,
   "metadata": {},
   "outputs": [],
   "source": [
    "# Now let us calculate the rest days ##\n",
    "\n",
    "# First we will order the games by game date, and change all season_id to season year\n",
    "filtered_df['game_date'] = pd.to_datetime(filtered_df['game_date'])\n",
    "filtered_df = filtered_df.sort_values(by='game_date').reset_index(drop=True)\n",
    "\n",
    "# Just get season id, game date, and season type dataframe\n",
    "ordered_season_df = filtered_df['season_id'].drop_duplicates().to_frame().reset_index(drop=True)\n",
    "\n",
    "# Remove first digit from season id, so that all season id just becomes the year of which the season is played\n",
    "ordered_season_df['new_season_id'] = ordered_season_df['season_id'].astype(str).str[1:].astype(int)\n",
    "ordered_season_dict = dict(zip(ordered_season_df['season_id'], ordered_season_df['new_season_id']))\n",
    "filtered_df['new_season_id'] = filtered_df['season_id'].replace(ordered_season_dict)"
   ]
  },
  {
   "cell_type": "code",
   "execution_count": 7,
   "metadata": {},
   "outputs": [
    {
     "name": "stderr",
     "output_type": "stream",
     "text": [
      "C:\\Users\\Alex1\\AppData\\Local\\Temp\\ipykernel_21528\\3517732948.py:3: SettingWithCopyWarning: \n",
      "A value is trying to be set on a copy of a slice from a DataFrame\n",
      "\n",
      "See the caveats in the documentation: https://pandas.pydata.org/pandas-docs/stable/user_guide/indexing.html#returning-a-view-versus-a-copy\n",
      "  game_hometeams_df.rename(columns ={'team_id_home' :'team_id'}, inplace=True)\n",
      "C:\\Users\\Alex1\\AppData\\Local\\Temp\\ipykernel_21528\\3517732948.py:4: SettingWithCopyWarning: \n",
      "A value is trying to be set on a copy of a slice from a DataFrame.\n",
      "Try using .loc[row_indexer,col_indexer] = value instead\n",
      "\n",
      "See the caveats in the documentation: https://pandas.pydata.org/pandas-docs/stable/user_guide/indexing.html#returning-a-view-versus-a-copy\n",
      "  game_hometeams_df.loc[:,'team_status'] = 'home'\n",
      "C:\\Users\\Alex1\\AppData\\Local\\Temp\\ipykernel_21528\\3517732948.py:7: SettingWithCopyWarning: \n",
      "A value is trying to be set on a copy of a slice from a DataFrame\n",
      "\n",
      "See the caveats in the documentation: https://pandas.pydata.org/pandas-docs/stable/user_guide/indexing.html#returning-a-view-versus-a-copy\n",
      "  game_awayteams_df.rename(columns ={'team_id_away' :'team_id'}, inplace=True)\n",
      "C:\\Users\\Alex1\\AppData\\Local\\Temp\\ipykernel_21528\\3517732948.py:8: SettingWithCopyWarning: \n",
      "A value is trying to be set on a copy of a slice from a DataFrame.\n",
      "Try using .loc[row_indexer,col_indexer] = value instead\n",
      "\n",
      "See the caveats in the documentation: https://pandas.pydata.org/pandas-docs/stable/user_guide/indexing.html#returning-a-view-versus-a-copy\n",
      "  game_awayteams_df.loc[:, 'team_status'] = 'away'\n"
     ]
    }
   ],
   "source": [
    "# Create dataframe with just team, game date,home/away status, season_id\n",
    "game_hometeams_df = filtered_df[['new_season_id', 'game_date' , 'team_id_home' ]]\n",
    "game_hometeams_df.rename(columns ={'team_id_home' :'team_id'}, inplace=True)\n",
    "game_hometeams_df.loc[:,'team_status'] = 'home'\n",
    "\n",
    "game_awayteams_df = filtered_df[['new_season_id', 'game_date' , 'team_id_away' ]]\n",
    "game_awayteams_df.rename(columns ={'team_id_away' :'team_id'}, inplace=True)\n",
    "game_awayteams_df.loc[:, 'team_status'] = 'away'\n",
    "\n",
    "games_df = pd.concat([game_hometeams_df, game_awayteams_df]).reset_index(drop=True)\n",
    "games_df.sort_values(by=['team_id', 'new_season_id',  'game_date'], inplace=True, ignore_index=True)\n",
    "games_df['previous_game_date'] = games_df.groupby(by=['team_id', 'new_season_id'])[['game_date']].shift(1)\n",
    "\n",
    "games_df['rest_days'] = (games_df.loc[:,'game_date'] - games_df.loc[:,'previous_game_date']).dt.days"
   ]
  },
  {
   "cell_type": "code",
   "execution_count": 8,
   "metadata": {},
   "outputs": [],
   "source": [
    "home_games_df = games_df.loc[games_df['team_status'] == 'home'].reset_index(drop=True)\n",
    "away_games_df = games_df.loc[games_df['team_status'] == 'away'].reset_index(drop=True)\n",
    "\n",
    "home_games_df.rename(columns={'rest_days' : 'rest_days_home'}, inplace=True)\n",
    "away_games_df.rename(columns={'rest_days' : 'rest_days_away'}, inplace=True)\n",
    "home_games_df.rename(columns={'team_id' : 'team_id_home'}, inplace=True)\n",
    "away_games_df.rename(columns={'team_id' : 'team_id_away'}, inplace=True)\n",
    "\n",
    "home_games_df = home_games_df.drop(columns=['team_status', 'previous_game_date'])\n",
    "away_games_df = away_games_df.drop(columns=['team_status', 'previous_game_date'])"
   ]
  },
  {
   "cell_type": "code",
   "execution_count": 9,
   "metadata": {},
   "outputs": [],
   "source": [
    "pd.set_option('display.max_columns', None)\n",
    "filtered_df = filtered_df.merge(right=home_games_df, how='left', left_on=['new_season_id', 'game_date', 'team_id_home'], right_on=['new_season_id', 'game_date', 'team_id_home'])\n",
    "filtered_df = filtered_df.merge(right=away_games_df, how='left' , left_on=['new_season_id', 'game_date', 'team_id_away'], right_on=['new_season_id', 'game_date', 'team_id_away'])\n",
    "\n",
    "filtered_df[['rest_days_home', 'rest_days_away']] = filtered_df[['rest_days_home', 'rest_days_away']].fillna(0)"
   ]
  },
  {
   "cell_type": "code",
   "execution_count": 10,
   "metadata": {},
   "outputs": [
    {
     "name": "stdout",
     "output_type": "stream",
     "text": [
      "Index(['index', 'season_id', 'team_id_home', 'team_abbreviation_home',\n",
      "       'team_name_home', 'game_id', 'game_date', 'matchup_home', 'wl_home',\n",
      "       'min', 'fgm_home', 'fga_home', 'fg_pct_home', 'fg3m_home', 'fg3a_home',\n",
      "       'fg3_pct_home', 'ftm_home', 'fta_home', 'ft_pct_home', 'oreb_home',\n",
      "       'dreb_home', 'reb_home', 'ast_home', 'stl_home', 'blk_home', 'tov_home',\n",
      "       'pf_home', 'pts_home', 'plus_minus_home', 'video_available_home',\n",
      "       'team_id_away', 'team_abbreviation_away', 'team_name_away',\n",
      "       'matchup_away', 'wl_away', 'fgm_away', 'fga_away', 'fg_pct_away',\n",
      "       'fg3m_away', 'fg3a_away', 'fg3_pct_away', 'ftm_away', 'fta_away',\n",
      "       'ft_pct_away', 'oreb_away', 'dreb_away', 'reb_away', 'ast_away',\n",
      "       'stl_away', 'blk_away', 'tov_away', 'pf_away', 'pts_away',\n",
      "       'plus_minus_away', 'video_available_away', 'season_type',\n",
      "       'new_season_id', 'rest_days_home', 'rest_days_away'],\n",
      "      dtype='object')\n"
     ]
    }
   ],
   "source": [
    "print(filtered_df.columns)"
   ]
  },
  {
   "cell_type": "markdown",
   "metadata": {},
   "source": [
    "### Remove unnecessary colums ###"
   ]
  },
  {
   "cell_type": "code",
   "execution_count": 11,
   "metadata": {},
   "outputs": [],
   "source": [
    "filtered_df = filtered_df[['new_season_id', 'game_id', 'game_date', \n",
    "    'season_id', 'team_id_home', 'wl_home',\n",
    "    'fgm_home', 'fga_home', 'fg_pct_home', 'fg3m_home', 'fg3a_home',\n",
    "    'fg3_pct_home', 'ftm_home', 'fta_home', 'ft_pct_home', 'oreb_home',\n",
    "    'dreb_home', 'reb_home', 'ast_home', 'stl_home', 'blk_home', 'tov_home',\n",
    "    'pf_home', 'pts_home', 'rest_days_home',\n",
    "    'team_id_away', 'wl_away', 'fgm_away', 'fga_away', 'fg_pct_away',\n",
    "    'fg3m_away', 'fg3a_away', 'fg3_pct_away', 'ftm_away', 'fta_away',\n",
    "    'ft_pct_away', 'oreb_away', 'dreb_away', 'reb_away', 'ast_away',\n",
    "    'stl_away', 'blk_away', 'tov_away', \n",
    "    'pf_away', 'pts_away', 'rest_days_away',\n",
    "    'season_type']]"
   ]
  },
  {
   "cell_type": "code",
   "execution_count": 12,
   "metadata": {},
   "outputs": [
    {
     "name": "stdout",
     "output_type": "stream",
     "text": [
      "Index(['new_season_id', 'game_id', 'game_date', 'season_id', 'team_id_home',\n",
      "       'wl_home', 'fgm_home', 'fga_home', 'fg_pct_home', 'fg3m_home',\n",
      "       'fg3a_home', 'fg3_pct_home', 'ftm_home', 'fta_home', 'ft_pct_home',\n",
      "       'oreb_home', 'dreb_home', 'reb_home', 'ast_home', 'stl_home',\n",
      "       'blk_home', 'tov_home', 'pf_home', 'pts_home', 'rest_days_home',\n",
      "       'team_id_away', 'wl_away', 'fgm_away', 'fga_away', 'fg_pct_away',\n",
      "       'fg3m_away', 'fg3a_away', 'fg3_pct_away', 'ftm_away', 'fta_away',\n",
      "       'ft_pct_away', 'oreb_away', 'dreb_away', 'reb_away', 'ast_away',\n",
      "       'stl_away', 'blk_away', 'tov_away', 'pf_away', 'pts_away',\n",
      "       'rest_days_away', 'season_type'],\n",
      "      dtype='object')\n"
     ]
    }
   ],
   "source": [
    "print(filtered_df.columns)"
   ]
  },
  {
   "cell_type": "code",
   "execution_count": 13,
   "metadata": {},
   "outputs": [
    {
     "name": "stdout",
     "output_type": "stream",
     "text": [
      "   new_season_id   game_id  game_date  season_id  team_id_home wl_home  \\\n",
      "0           1979  47900044 1980-05-07      41979    1610612747       L   \n",
      "1           1979  47900045 1980-05-10      41979    1610612755       L   \n",
      "2           1979  47900048 1980-05-16      41979    1610612755       L   \n",
      "3           1980  48000048 1981-05-05      41980    1610612738       W   \n",
      "4           1980  48000049 1981-05-07      41980    1610612738       L   \n",
      "\n",
      "   fgm_home  fga_home  fg_pct_home  fg3m_home  fg3a_home  fg3_pct_home  \\\n",
      "0      48.0      95.0        0.505        0.0        1.0          0.00   \n",
      "1      45.0      93.0        0.484        1.0        4.0          0.25   \n",
      "2      47.0      89.0        0.528        0.0        6.0          0.00   \n",
      "3      41.0      95.0        0.432        0.0        1.0          0.00   \n",
      "4      41.0      82.0        0.500        0.0        3.0          0.00   \n",
      "\n",
      "   ftm_home  fta_home  ft_pct_home  oreb_home  dreb_home  reb_home  ast_home  \\\n",
      "0       8.0      12.0        0.667       15.0       37.0      52.0      32.0   \n",
      "1      10.0      17.0        0.588       13.0       24.0      37.0      34.0   \n",
      "2      13.0      22.0        0.591        7.0       29.0      36.0      27.0   \n",
      "3      16.0      20.0        0.800       25.0       29.0      54.0      23.0   \n",
      "4       8.0      13.0        0.615       14.0       34.0      48.0      17.0   \n",
      "\n",
      "   stl_home  blk_home  tov_home  pf_home  pts_home  rest_days_home  \\\n",
      "0      12.0       7.0      26.0     27.0     104.0             0.0   \n",
      "1      12.0       8.0      13.0     25.0     101.0             3.0   \n",
      "2       4.0      11.0      18.0     27.0     107.0             6.0   \n",
      "3       6.0       5.0      19.0     21.0      98.0             0.0   \n",
      "4       6.0       7.0      22.0     27.0      90.0             2.0   \n",
      "\n",
      "   team_id_away wl_away  fgm_away  fga_away  fg_pct_away  fg3m_away  \\\n",
      "0    1610612755       W      43.0      85.0        0.506        0.0   \n",
      "1    1610612747       W      44.0      92.0        0.478        0.0   \n",
      "2    1610612747       W      45.0      92.0        0.489        0.0   \n",
      "3    1610612745       L      42.0      99.0        0.424        0.0   \n",
      "4    1610612745       W      34.0      85.0        0.400        2.0   \n",
      "\n",
      "   fg3a_away  fg3_pct_away  ftm_away  fta_away  ft_pct_away  oreb_away  \\\n",
      "0        1.0           0.0      21.0      27.0        0.778        5.0   \n",
      "1        1.0           0.0      23.0      30.0        0.767       22.0   \n",
      "2        2.0           0.0      33.0      35.0        0.943       17.0   \n",
      "3        2.0           0.0      11.0      14.0        0.786       19.0   \n",
      "4        2.0           1.0      22.0      32.0        0.688       13.0   \n",
      "\n",
      "   dreb_away  reb_away  ast_away  stl_away  blk_away  tov_away  pf_away  \\\n",
      "0       29.0      34.0      34.0      14.0      11.0      20.0     21.0   \n",
      "1       34.0      56.0      20.0       5.0       5.0      20.0     25.0   \n",
      "2       35.0      52.0      27.0      14.0       4.0      17.0     22.0   \n",
      "3       23.0      42.0      23.0      15.0       3.0      10.0     20.0   \n",
      "4       22.0      35.0      16.0       6.0       8.0       9.0     17.0   \n",
      "\n",
      "   pts_away  rest_days_away season_type  \n",
      "0     107.0             0.0    Playoffs  \n",
      "1     111.0             3.0    Playoffs  \n",
      "2     123.0             6.0    Playoffs  \n",
      "3      95.0             0.0    Playoffs  \n",
      "4      92.0             2.0    Playoffs  \n"
     ]
    }
   ],
   "source": [
    "print(filtered_df.head(5))"
   ]
  },
  {
   "cell_type": "markdown",
   "metadata": {},
   "source": [
    "### Replace Win/Loss columns with int (1 for win, 0 for loss). Replace season type with int (1 for playoff, 0 for regular season) ###"
   ]
  },
  {
   "cell_type": "code",
   "execution_count": 14,
   "metadata": {},
   "outputs": [
    {
     "name": "stderr",
     "output_type": "stream",
     "text": [
      "C:\\Users\\Alex1\\AppData\\Local\\Temp\\ipykernel_21528\\4260830620.py:1: FutureWarning: Downcasting behavior in `replace` is deprecated and will be removed in a future version. To retain the old behavior, explicitly call `result.infer_objects(copy=False)`. To opt-in to the future behavior, set `pd.set_option('future.no_silent_downcasting', True)`\n",
      "  filtered_df['wl_home'] = filtered_df['wl_home'].replace({'W': 1, 'L': 0})\n",
      "C:\\Users\\Alex1\\AppData\\Local\\Temp\\ipykernel_21528\\4260830620.py:2: FutureWarning: Downcasting behavior in `replace` is deprecated and will be removed in a future version. To retain the old behavior, explicitly call `result.infer_objects(copy=False)`. To opt-in to the future behavior, set `pd.set_option('future.no_silent_downcasting', True)`\n",
      "  filtered_df['wl_away'] = filtered_df['wl_away'].replace({'W': 1, 'L': 0})\n",
      "C:\\Users\\Alex1\\AppData\\Local\\Temp\\ipykernel_21528\\4260830620.py:3: FutureWarning: Downcasting behavior in `replace` is deprecated and will be removed in a future version. To retain the old behavior, explicitly call `result.infer_objects(copy=False)`. To opt-in to the future behavior, set `pd.set_option('future.no_silent_downcasting', True)`\n",
      "  filtered_df['season_type'] = filtered_df['season_type'].replace({'Regular Season': 0, 'Playoffs': 1})\n"
     ]
    }
   ],
   "source": [
    "filtered_df['wl_home'] = filtered_df['wl_home'].replace({'W': 1, 'L': 0})\n",
    "filtered_df['wl_away'] = filtered_df['wl_away'].replace({'W': 1, 'L': 0})\n",
    "filtered_df['season_type'] = filtered_df['season_type'].replace({'Regular Season': 0, 'Playoffs': 1})"
   ]
  },
  {
   "cell_type": "code",
   "execution_count": 15,
   "metadata": {},
   "outputs": [
    {
     "name": "stdout",
     "output_type": "stream",
     "text": [
      "   new_season_id   game_id  game_date  season_id  team_id_home  wl_home  \\\n",
      "0           1979  47900044 1980-05-07      41979    1610612747        0   \n",
      "1           1979  47900045 1980-05-10      41979    1610612755        0   \n",
      "2           1979  47900048 1980-05-16      41979    1610612755        0   \n",
      "3           1980  48000048 1981-05-05      41980    1610612738        1   \n",
      "4           1980  48000049 1981-05-07      41980    1610612738        0   \n",
      "\n",
      "   fgm_home  fga_home  fg_pct_home  fg3m_home  fg3a_home  fg3_pct_home  \\\n",
      "0      48.0      95.0        0.505        0.0        1.0          0.00   \n",
      "1      45.0      93.0        0.484        1.0        4.0          0.25   \n",
      "2      47.0      89.0        0.528        0.0        6.0          0.00   \n",
      "3      41.0      95.0        0.432        0.0        1.0          0.00   \n",
      "4      41.0      82.0        0.500        0.0        3.0          0.00   \n",
      "\n",
      "   ftm_home  fta_home  ft_pct_home  oreb_home  dreb_home  reb_home  ast_home  \\\n",
      "0       8.0      12.0        0.667       15.0       37.0      52.0      32.0   \n",
      "1      10.0      17.0        0.588       13.0       24.0      37.0      34.0   \n",
      "2      13.0      22.0        0.591        7.0       29.0      36.0      27.0   \n",
      "3      16.0      20.0        0.800       25.0       29.0      54.0      23.0   \n",
      "4       8.0      13.0        0.615       14.0       34.0      48.0      17.0   \n",
      "\n",
      "   stl_home  blk_home  tov_home  pf_home  pts_home  rest_days_home  \\\n",
      "0      12.0       7.0      26.0     27.0     104.0             0.0   \n",
      "1      12.0       8.0      13.0     25.0     101.0             3.0   \n",
      "2       4.0      11.0      18.0     27.0     107.0             6.0   \n",
      "3       6.0       5.0      19.0     21.0      98.0             0.0   \n",
      "4       6.0       7.0      22.0     27.0      90.0             2.0   \n",
      "\n",
      "   team_id_away  wl_away  fgm_away  fga_away  fg_pct_away  fg3m_away  \\\n",
      "0    1610612755        1      43.0      85.0        0.506        0.0   \n",
      "1    1610612747        1      44.0      92.0        0.478        0.0   \n",
      "2    1610612747        1      45.0      92.0        0.489        0.0   \n",
      "3    1610612745        0      42.0      99.0        0.424        0.0   \n",
      "4    1610612745        1      34.0      85.0        0.400        2.0   \n",
      "\n",
      "   fg3a_away  fg3_pct_away  ftm_away  fta_away  ft_pct_away  oreb_away  \\\n",
      "0        1.0           0.0      21.0      27.0        0.778        5.0   \n",
      "1        1.0           0.0      23.0      30.0        0.767       22.0   \n",
      "2        2.0           0.0      33.0      35.0        0.943       17.0   \n",
      "3        2.0           0.0      11.0      14.0        0.786       19.0   \n",
      "4        2.0           1.0      22.0      32.0        0.688       13.0   \n",
      "\n",
      "   dreb_away  reb_away  ast_away  stl_away  blk_away  tov_away  pf_away  \\\n",
      "0       29.0      34.0      34.0      14.0      11.0      20.0     21.0   \n",
      "1       34.0      56.0      20.0       5.0       5.0      20.0     25.0   \n",
      "2       35.0      52.0      27.0      14.0       4.0      17.0     22.0   \n",
      "3       23.0      42.0      23.0      15.0       3.0      10.0     20.0   \n",
      "4       22.0      35.0      16.0       6.0       8.0       9.0     17.0   \n",
      "\n",
      "   pts_away  rest_days_away  season_type  \n",
      "0     107.0             0.0            1  \n",
      "1     111.0             3.0            1  \n",
      "2     123.0             6.0            1  \n",
      "3      95.0             0.0            1  \n",
      "4      92.0             2.0            1  \n"
     ]
    }
   ],
   "source": [
    "# filtered_df[['team_id_home', 'team_id_away']] = filtered_df[['team_id_home', 'team_id_away']].replace(teamID_newID_dict)\n",
    "\n",
    "print(filtered_df.head(5))"
   ]
  },
  {
   "cell_type": "markdown",
   "metadata": {},
   "source": [
    "### Convert data to team centric data (change perspective from home vs away to primary team vs opposing team):  each sample will have a is-home flag on primary team ###"
   ]
  },
  {
   "cell_type": "code",
   "execution_count": 16,
   "metadata": {},
   "outputs": [
    {
     "name": "stdout",
     "output_type": "stream",
     "text": [
      "   new_season_id   game_id  game_date  season_id  team_id_primary  wl_primary  \\\n",
      "0           1985  28500005 1985-10-25      21985       1610612737           0   \n",
      "1           1985  28500013 1985-10-26      21985       1610612737           0   \n",
      "2           1985  28500030 1985-10-29      21985       1610612737           1   \n",
      "3           1985  28500045 1985-11-01      21985       1610612737           0   \n",
      "4           1985  28500060 1985-11-05      21985       1610612737           0   \n",
      "\n",
      "   fgm_primary  fga_primary  fg_pct_primary  fg3m_primary  fg3a_primary  \\\n",
      "0         41.0         92.0           0.446           0.0           3.0   \n",
      "1         27.0         70.0           0.386           0.0           2.0   \n",
      "2         37.0         86.0           0.430           1.0           3.0   \n",
      "3         41.0         90.0           0.456           1.0           6.0   \n",
      "4         41.0         81.0           0.506           0.0           2.0   \n",
      "\n",
      "   fg3_pct_primary  ftm_primary  fta_primary  ft_pct_primary  oreb_primary  \\\n",
      "0            0.000          9.0         18.0           0.500          16.0   \n",
      "1            0.000         37.0         52.0           0.712          12.0   \n",
      "2            0.333         27.0         38.0           0.711          24.0   \n",
      "3            0.167         22.0         33.0           0.667          14.0   \n",
      "4            0.000         31.0         46.0           0.674          20.0   \n",
      "\n",
      "   dreb_primary  reb_primary  ast_primary  stl_primary  blk_primary  \\\n",
      "0          28.0         44.0         25.0          8.0          5.0   \n",
      "1          24.0         36.0         14.0          9.0          7.0   \n",
      "2          36.0         60.0         21.0          9.0          7.0   \n",
      "3          25.0         39.0         22.0         12.0          2.0   \n",
      "4          30.0         50.0         18.0         17.0          1.0   \n",
      "\n",
      "   tov_primary  pf_primary  pts_primary  rest_days_primary  team_id_opposing  \\\n",
      "0         16.0        23.0         91.0                0.0        1610612764   \n",
      "1         27.0        34.0         91.0                1.0        1610612749   \n",
      "2         12.0        25.0        102.0                3.0        1610612752   \n",
      "3         14.0        35.0        105.0                3.0        1610612738   \n",
      "4         30.0        35.0        113.0                4.0        1610612743   \n",
      "\n",
      "   wl_opposing  fgm_opposing  fga_opposing  fg_pct_opposing  fg3m_opposing  \\\n",
      "0            1          40.0          78.0            0.513            0.0   \n",
      "1            1          44.0          85.0            0.518            2.0   \n",
      "2            0          31.0          84.0            0.369            0.0   \n",
      "3            1          37.0          78.0            0.474            1.0   \n",
      "4            1          46.0         100.0            0.460            4.0   \n",
      "\n",
      "   fg3a_opposing  fg3_pct_opposing  ftm_opposing  fta_opposing  \\\n",
      "0            2.0               0.0          20.0          26.0   \n",
      "1            5.0               0.4          27.0          30.0   \n",
      "2            3.0               0.0          25.0          36.0   \n",
      "3            5.0               0.2          34.0          39.0   \n",
      "4           10.0               0.4          32.0          36.0   \n",
      "\n",
      "   ft_pct_opposing  oreb_opposing  dreb_opposing  reb_opposing  ast_opposing  \\\n",
      "0            0.769           11.0           29.0          40.0          21.0   \n",
      "1            0.900           12.0           30.0          42.0          28.0   \n",
      "2            0.694           19.0           25.0          44.0          15.0   \n",
      "3            0.872           10.0           31.0          41.0          24.0   \n",
      "4            0.889           19.0           20.0          39.0          27.0   \n",
      "\n",
      "   stl_opposing  blk_opposing  tov_opposing  pf_opposing  pts_opposing  \\\n",
      "0          11.0           7.0          17.0         19.0         100.0   \n",
      "1          11.0           3.0          22.0         40.0         117.0   \n",
      "2           8.0           3.0          12.0         26.0          87.0   \n",
      "3           5.0           7.0          23.0         23.0         109.0   \n",
      "4          11.0          10.0          24.0         34.0         128.0   \n",
      "\n",
      "   rest_days_opposing  season_type  subject_is_home  \n",
      "0                 0.0            0                1  \n",
      "1                 1.0            0                0  \n",
      "2                 3.0            0                1  \n",
      "3                 2.0            0                0  \n",
      "4                 5.0            0                0  \n"
     ]
    }
   ],
   "source": [
    "# Create subject centric dataframe from home team perspective\n",
    "home_team_subject_centric_df = filtered_df\n",
    "new_columns = {\n",
    "        col: col.replace('_home', '_primary').replace('_away', '_opposing')\n",
    "        for col in home_team_subject_centric_df.columns\n",
    "    }\n",
    "home_team_subject_centric_df = home_team_subject_centric_df.rename(columns=new_columns)\n",
    "\n",
    "# Create subject centric dataframe from away team perspective\n",
    "away_team_subject_centric_df = filtered_df\n",
    "new_columns = {\n",
    "        col: col.replace('_home', '_opposing').replace('_away', '_primary')\n",
    "        for col in away_team_subject_centric_df.columns\n",
    "    }\n",
    "away_team_subject_centric_df = away_team_subject_centric_df.rename(columns=new_columns)\n",
    "\n",
    "# Add is_home flag\n",
    "home_team_subject_centric_df[['subject_is_home']] = 1\n",
    "away_team_subject_centric_df[['subject_is_home']] = 0\n",
    "\n",
    "# Reorder columns for consistency\n",
    "away_team_subject_centric_df = away_team_subject_centric_df[home_team_subject_centric_df.columns]\n",
    "\n",
    "# Concatenate home and away team subject centric dataframes\n",
    "subject_centric_df = pd.concat([home_team_subject_centric_df, away_team_subject_centric_df], ignore_index=True)\n",
    "subject_centric_df = subject_centric_df.sort_values(by=['team_id_primary', 'season_id', 'game_date']).reset_index(drop=True)\n",
    "\n",
    "print(subject_centric_df.head(5))"
   ]
  },
  {
   "cell_type": "markdown",
   "metadata": {},
   "source": [
    "### Drop season_id, we will use new_season_id for dataset creation. Encode team_id to smaller number for training sake ###"
   ]
  },
  {
   "cell_type": "code",
   "execution_count": 17,
   "metadata": {},
   "outputs": [
    {
     "name": "stdout",
     "output_type": "stream",
     "text": [
      "   new_season_id  game_date  team_id_primary  wl_primary  fgm_primary  \\\n",
      "0           1985 1985-10-25                0           0         41.0   \n",
      "1           1985 1985-10-26                0           0         27.0   \n",
      "2           1985 1985-10-29                0           1         37.0   \n",
      "3           1985 1985-11-01                0           0         41.0   \n",
      "4           1985 1985-11-05                0           0         41.0   \n",
      "\n",
      "   fga_primary  fg_pct_primary  fg3m_primary  fg3a_primary  fg3_pct_primary  \\\n",
      "0         92.0           0.446           0.0           3.0            0.000   \n",
      "1         70.0           0.386           0.0           2.0            0.000   \n",
      "2         86.0           0.430           1.0           3.0            0.333   \n",
      "3         90.0           0.456           1.0           6.0            0.167   \n",
      "4         81.0           0.506           0.0           2.0            0.000   \n",
      "\n",
      "   ftm_primary  fta_primary  ft_pct_primary  oreb_primary  dreb_primary  \\\n",
      "0          9.0         18.0           0.500          16.0          28.0   \n",
      "1         37.0         52.0           0.712          12.0          24.0   \n",
      "2         27.0         38.0           0.711          24.0          36.0   \n",
      "3         22.0         33.0           0.667          14.0          25.0   \n",
      "4         31.0         46.0           0.674          20.0          30.0   \n",
      "\n",
      "   reb_primary  ast_primary  stl_primary  blk_primary  tov_primary  \\\n",
      "0         44.0         25.0          8.0          5.0         16.0   \n",
      "1         36.0         14.0          9.0          7.0         27.0   \n",
      "2         60.0         21.0          9.0          7.0         12.0   \n",
      "3         39.0         22.0         12.0          2.0         14.0   \n",
      "4         50.0         18.0         17.0          1.0         30.0   \n",
      "\n",
      "   pf_primary  pts_primary  rest_days_primary  team_id_opposing  fgm_opposing  \\\n",
      "0        23.0         91.0                0.0                27          40.0   \n",
      "1        34.0         91.0                1.0                12          44.0   \n",
      "2        25.0        102.0                3.0                15          31.0   \n",
      "3        35.0        105.0                3.0                 1          37.0   \n",
      "4        35.0        113.0                4.0                 6          46.0   \n",
      "\n",
      "   fga_opposing  fg_pct_opposing  fg3m_opposing  fg3a_opposing  \\\n",
      "0          78.0            0.513            0.0            2.0   \n",
      "1          85.0            0.518            2.0            5.0   \n",
      "2          84.0            0.369            0.0            3.0   \n",
      "3          78.0            0.474            1.0            5.0   \n",
      "4         100.0            0.460            4.0           10.0   \n",
      "\n",
      "   fg3_pct_opposing  ftm_opposing  fta_opposing  ft_pct_opposing  \\\n",
      "0               0.0          20.0          26.0            0.769   \n",
      "1               0.4          27.0          30.0            0.900   \n",
      "2               0.0          25.0          36.0            0.694   \n",
      "3               0.2          34.0          39.0            0.872   \n",
      "4               0.4          32.0          36.0            0.889   \n",
      "\n",
      "   oreb_opposing  dreb_opposing  reb_opposing  ast_opposing  stl_opposing  \\\n",
      "0           11.0           29.0          40.0          21.0          11.0   \n",
      "1           12.0           30.0          42.0          28.0          11.0   \n",
      "2           19.0           25.0          44.0          15.0           8.0   \n",
      "3           10.0           31.0          41.0          24.0           5.0   \n",
      "4           19.0           20.0          39.0          27.0          11.0   \n",
      "\n",
      "   blk_opposing  tov_opposing  pf_opposing  pts_opposing  rest_days_opposing  \\\n",
      "0           7.0          17.0         19.0         100.0                 0.0   \n",
      "1           3.0          22.0         40.0         117.0                 1.0   \n",
      "2           3.0          12.0         26.0          87.0                 3.0   \n",
      "3           7.0          23.0         23.0         109.0                 2.0   \n",
      "4          10.0          24.0         34.0         128.0                 5.0   \n",
      "\n",
      "   season_type  subject_is_home  \n",
      "0            0                1  \n",
      "1            0                0  \n",
      "2            0                1  \n",
      "3            0                0  \n",
      "4            0                0  \n"
     ]
    }
   ],
   "source": [
    "subject_centric_df = subject_centric_df.drop(columns=['season_id', 'game_id', 'wl_opposing'])\n",
    "\n",
    "subject_centric_df[['team_id_primary', 'team_id_opposing']] = subject_centric_df[['team_id_primary', 'team_id_opposing']].replace(teamID_newID_dict)\n",
    "\n",
    "print(subject_centric_df.head(5))"
   ]
  },
  {
   "cell_type": "markdown",
   "metadata": {},
   "source": [
    "### Create Temporal Dataset ###"
   ]
  },
  {
   "cell_type": "code",
   "execution_count": 18,
   "metadata": {},
   "outputs": [],
   "source": [
    "# Function to get the last n games of a team\n",
    "\n",
    "def get_last_n_games(df_team_games, team_id, current_date, season_id, window_size=5):\n",
    "    past_games = df_team_games[\n",
    "        (df_team_games['team_id_primary'] == team_id) &\n",
    "        (df_team_games['new_season_id'] == season_id) &\n",
    "        (df_team_games['game_date'] < current_date)\n",
    "    ].sort_values('game_date', ascending=False).head(window_size)\n",
    "\n",
    "    return past_games.sort_values('game_date') if len(past_games) == window_size else None"
   ]
  },
  {
   "cell_type": "code",
   "execution_count": 19,
   "metadata": {},
   "outputs": [
    {
     "data": {
      "application/vnd.jupyter.widget-view+json": {
       "model_id": "c7f9373a9e3744ccb00e033b4e6e3be9",
       "version_major": 2,
       "version_minor": 0
      },
      "text/plain": [
       "  0%|          | 0/89098 [00:00<?, ?it/s]"
      ]
     },
     "metadata": {},
     "output_type": "display_data"
    },
    {
     "name": "stdout",
     "output_type": "stream",
     "text": [
      "Number of samples: 83178\n",
      "X_primary shape: (83178, 5, 42)\n",
      "X_opposing shape: (83178, 5, 42)\n",
      "y shape: (83178, 1)\n"
     ]
    }
   ],
   "source": [
    "from tqdm.notebook import tqdm\n",
    "\n",
    "# Create temporal data\n",
    "\n",
    "# For storing input and labels\n",
    "X_primary = []\n",
    "X_opposing = []\n",
    "y = []\n",
    "\n",
    "# Set window size\n",
    "windowsize = 5\n",
    "\n",
    "# Loop through each game\n",
    "for _, row in tqdm(subject_centric_df.iterrows(), total=len(subject_centric_df)):\n",
    "    team_id_primary = row['team_id_primary']\n",
    "    team_id_opposing = row['team_id_opposing']\n",
    "    season_id = row['new_season_id']\n",
    "    current_date = row['game_date']\n",
    "    \n",
    "    # Get history for both teams\n",
    "    primary_history = get_last_n_games(subject_centric_df, team_id_primary, current_date, season_id, window_size=windowsize)\n",
    "    opposing_history = get_last_n_games(subject_centric_df, team_id_opposing, current_date, season_id, window_size=windowsize)\n",
    "    \n",
    "    # Only use this sample if both teams have enough games\n",
    "    if primary_history is not None and opposing_history is not None:\n",
    "        # print(primary_history.drop(columns=['game_date', 'new_season_id', 'wl_primary']).columns)\n",
    "        # Flatten stats of both teams (excluding team_id, date, label columns)\n",
    "        features_primary = primary_history.drop(columns=['game_date', 'new_season_id', 'wl_primary']).values\n",
    "        features_opposing = opposing_history.drop(columns=['game_date', 'new_season_id', 'wl_primary']).values\n",
    "        labels = np.array([row['wl_primary']])\n",
    "\n",
    "        # print(features_primary.shape)\n",
    "        # print(features_opposing.shape)\n",
    "        # print(labels.shape)\n",
    "\n",
    "        features_primary = np.array(features_primary)\n",
    "        features_opposing = np.array(features_opposing)\n",
    "        \n",
    "        # Append to dataset\n",
    "        X_primary.append(features_primary)\n",
    "        X_opposing.append(features_opposing)\n",
    "        y.append(labels)\n",
    "\n",
    "print(\"Number of samples:\", len(X_primary))\n",
    "print(\"X_primary shape:\", np.array(X_primary).shape)\n",
    "print(\"X_opposing shape:\", np.array(X_opposing).shape)\n",
    "print(\"y shape:\", np.array(y).shape)\n",
    "\n",
    "\n"
   ]
  },
  {
   "cell_type": "markdown",
   "metadata": {},
   "source": [
    "### Make sure columns and shapes line up ###"
   ]
  },
  {
   "cell_type": "code",
   "execution_count": 21,
   "metadata": {},
   "outputs": [
    {
     "name": "stdout",
     "output_type": "stream",
     "text": [
      "X_primary shape: (83178, 5, 42)\n",
      "X_opposing shape: (83178, 5, 42)\n",
      "y shape: (83178, 1)\n"
     ]
    }
   ],
   "source": [
    "X_primary = np.array(X_primary)\n",
    "X_opposing = np.array(X_opposing)\n",
    "y = np.array(y)\n",
    "\n",
    "print(\"X_primary shape:\", X_primary.shape)\n",
    "print(\"X_opposing shape:\", X_opposing.shape)\n",
    "print(\"y shape:\", y.shape)"
   ]
  },
  {
   "cell_type": "code",
   "execution_count": 22,
   "metadata": {},
   "outputs": [
    {
     "name": "stdout",
     "output_type": "stream",
     "text": [
      "42\n"
     ]
    }
   ],
   "source": [
    "print(len(list(subject_centric_df.drop(columns=['game_date', 'new_season_id', 'wl_primary']).columns)))"
   ]
  },
  {
   "cell_type": "markdown",
   "metadata": {},
   "source": [
    "### Package dataset and save into pickle file ###"
   ]
  },
  {
   "cell_type": "code",
   "execution_count": 24,
   "metadata": {},
   "outputs": [],
   "source": [
    "import pickle\n",
    "import numpy as np\n",
    "\n",
    "data_bundle = {\n",
    "    \"X_primary\": X_primary,\n",
    "    \"X_opposing\": X_opposing,\n",
    "    \"y\": y,\n",
    "    \"X_cols\": list(subject_centric_df.drop(columns=['game_date', 'new_season_id', 'wl_primary']).columns),\n",
    "    \"y_col\": 'wl_primary',\n",
    "    \"windowsize\" : windowsize, \n",
    "    \"note\": (\n",
    "        \"Temporal dataset for time sequence modeling. \"\n",
    "        \"Each sample has a shape of [window_size x num_features] for both primary and opposing teams. \"\n",
    "        \"Shapes: X_primary and X_opposing = [num_samples, window_size, num_features], \"\n",
    "        \"y = [num_samples, 1].\"\n",
    "        )\n",
    "}\n",
    "\n",
    "# Save\n",
    "with open(\"NBA_temporal_dataset.pkl\", \"wb\") as f:\n",
    "    pickle.dump(data_bundle, f)"
   ]
  }
 ],
 "metadata": {
  "kernelspec": {
   "display_name": "cs5100",
   "language": "python",
   "name": "python3"
  },
  "language_info": {
   "codemirror_mode": {
    "name": "ipython",
    "version": 3
   },
   "file_extension": ".py",
   "mimetype": "text/x-python",
   "name": "python",
   "nbconvert_exporter": "python",
   "pygments_lexer": "ipython3",
   "version": "3.11.10"
  }
 },
 "nbformat": 4,
 "nbformat_minor": 2
}
