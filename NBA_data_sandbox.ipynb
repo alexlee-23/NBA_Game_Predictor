{
 "cells": [
  {
   "cell_type": "code",
   "execution_count": 9,
   "metadata": {},
   "outputs": [
    {
     "name": "stdout",
     "output_type": "stream",
     "text": [
      "Index(['season_id', 'team_id_home', 'team_abbreviation_home', 'team_name_home',\n",
      "       'game_id', 'game_date', 'matchup_home', 'wl_home', 'min', 'fgm_home',\n",
      "       'fga_home', 'fg_pct_home', 'fg3m_home', 'fg3a_home', 'fg3_pct_home',\n",
      "       'ftm_home', 'fta_home', 'ft_pct_home', 'oreb_home', 'dreb_home',\n",
      "       'reb_home', 'ast_home', 'stl_home', 'blk_home', 'tov_home', 'pf_home',\n",
      "       'pts_home', 'plus_minus_home', 'video_available_home', 'team_id_away',\n",
      "       'team_abbreviation_away', 'team_name_away', 'matchup_away', 'wl_away',\n",
      "       'fgm_away', 'fga_away', 'fg_pct_away', 'fg3m_away', 'fg3a_away',\n",
      "       'fg3_pct_away', 'ftm_away', 'fta_away', 'ft_pct_away', 'oreb_away',\n",
      "       'dreb_away', 'reb_away', 'ast_away', 'stl_away', 'blk_away', 'tov_away',\n",
      "       'pf_away', 'pts_away', 'plus_minus_away', 'video_available_away',\n",
      "       'season_type'],\n",
      "      dtype='object')\n"
     ]
    }
   ],
   "source": [
    "import pandas as pd\n",
    "import numpy as np\n",
    "import os\n",
    "\n",
    "relative_filepath = \"NBA_Data\" + os.sep + \"csv\" + os.sep + \"game.csv\"\n",
    "game_df = pd.read_csv(relative_filepath)\n",
    "\n",
    "# Show all column names\n",
    "print(game_df.columns)"
   ]
  },
  {
   "cell_type": "code",
   "execution_count": 10,
   "metadata": {},
   "outputs": [
    {
     "name": "stdout",
     "output_type": "stream",
     "text": [
      "Number of games: 65698\n"
     ]
    }
   ],
   "source": [
    "game_df.head()\n",
    "print(\"Number of games:\" ,len(game_df))"
   ]
  },
  {
   "cell_type": "code",
   "execution_count": 11,
   "metadata": {},
   "outputs": [
    {
     "name": "stdout",
     "output_type": "stream",
     "text": [
      "Number of games without null stats: 46667\n"
     ]
    }
   ],
   "source": [
    "filter_out_null_stats_df = game_df.dropna(subset=['oreb_home', 'dreb_home', 'ast_home', 'stl_home', 'blk_home', 'tov_home', 'pf_home', 'pts_home', 'oreb_away', 'dreb_away', 'ast_away', 'stl_away', 'blk_away', 'tov_away', 'pf_away', 'pts_away'])\n",
    "\n",
    "print(\"Number of games without null stats:\",len(filter_out_null_stats_df))\n"
   ]
  },
  {
   "cell_type": "code",
   "execution_count": 21,
   "metadata": {},
   "outputs": [
    {
     "name": "stdout",
     "output_type": "stream",
     "text": [
      "Unique Seasons with null stats: 225\n",
      "Unique Seasons without null stats: 142\n",
      "Unique Seasons with null stats: [21946 41946 21947 41947 21948 41948 21949 41949 21950 41950 31950 21951\n",
      " 41951 31951 21952 41952 31952 21953 41953 31953 21954 41954 31954 21955\n",
      " 41955 31955 21956 41956 31956 21957 31957 21958 31958 21959 41959 31959\n",
      " 31960 41961 31961 21962 41962 31962 21963 41963 31963 21964 31964 21965\n",
      " 41965 31965 41966 31966 21967 41967 31967 21968 31968 21969 41969 31969\n",
      " 41970 31970 21971 41971 31971 21972 41972 31972 21973 41973 31973 21974\n",
      " 41974 31974 41975 31975 41976 31976 21977 41977 31977 21978 41978 31978\n",
      " 21979 41979 31979 21980 41980 31980 21981 41981 31981 21982 41982 31982\n",
      " 21983 41983 31983 21984 41984 31984 21985 41985 31985 21986 41986 31986\n",
      " 21987 41987 31987 21988 41988 31988 21989 41989 31989 21990 41990 31990\n",
      " 21991 41991 31991 21992 41992 31992 21993 31993 21994 41994 31994 21995\n",
      " 31995 21996 41996 31996 21997 41997 31997 21998 41998 21999 31999 22000\n",
      " 42000 32000 22001 32001 22002 42002 32002 22003 42003 32003 22004 42004\n",
      " 32004 22005 12005 32005 22006 12006 42006 32006 22007 12007 42007 32007\n",
      " 22008 12008 42008 32008 22009 12009 42009 32009 22010 12010 42010 32010\n",
      " 22011 12011 42011 32011 12012 42012 32012 22013 12013 42013 32013 22014\n",
      " 12014 42014 32014 22015 12015 42015 32015 22016 12016 42016 32016 22017\n",
      " 12017 42017 32017 22018 42018 32018 22019 42019 32019 22020 12020 42020\n",
      " 32020 22021 12021 42021 32021 22022 12022 42022 32022]\n",
      "Unique Seasons without null stats: [41977 31977 41978 31978 41979 31979 41980 31980 21981 41981 31981 41982\n",
      " 31982 21983 41983 31983 21984 41984 31984 21985 41985 31985 21986 41986\n",
      " 31986 21987 41987 31987 21988 41988 31988 21989 41989 31989 21990 41990\n",
      " 31990 21991 41991 31991 21992 41992 31992 21993 31993 21994 41994 31994\n",
      " 21995 31995 21996 41996 31996 21997 41997 31997 21998 41998 21999 31999\n",
      " 22000 42000 32000 22001 32001 22002 42002 32002 22003 42003 32003 22004\n",
      " 42004 32004 22005 12005 32005 22006 12006 42006 32006 22007 12007 42007\n",
      " 32007 22008 12008 42008 32008 22009 12009 42009 32009 22010 12010 42010\n",
      " 32010 22011 12011 42011 32011 12012 42012 32012 22013 12013 42013 32013\n",
      " 22014 12014 42014 32014 22015 12015 42015 32015 22016 12016 42016 32016\n",
      " 22017 12017 42017 32017 22018 42018 32018 22019 42019 32019 22020 12020\n",
      " 42020 32020 22021 12021 42021 32021 22022 12022 42022 32022]\n"
     ]
    }
   ],
   "source": [
    "seasons_with_null_stats = game_df['season_id'].unique()\n",
    "seasons_without_null_stats = filter_out_null_stats_df['season_id'].unique()\n",
    "\n",
    "print(f\"Unique Seasons with null stats: {len(seasons_with_null_stats)}\")\n",
    "print(f\"Unique Seasons without null stats: {len(seasons_without_null_stats)}\")\n",
    "\n",
    "print(f\"Unique Seasons with null stats: {seasons_with_null_stats}\")\n",
    "print(f\"Unique Seasons without null stats: {seasons_without_null_stats}\")"
   ]
  },
  {
   "cell_type": "code",
   "execution_count": 29,
   "metadata": {},
   "outputs": [
    {
     "name": "stdout",
     "output_type": "stream",
     "text": [
      "            game_date            \n",
      "                  min         max\n",
      "season_id                        \n",
      "12005      2005-10-10  2005-10-28\n",
      "12006      2006-10-05  2006-10-27\n",
      "12007      2007-10-06  2007-10-25\n",
      "12008      2008-10-05  2008-10-24\n",
      "12009      2009-10-01  2009-10-23\n",
      "...               ...         ...\n",
      "42018      2019-04-13  2019-06-13\n",
      "42019      2020-08-17  2020-10-11\n",
      "42020      2021-05-22  2021-07-20\n",
      "42021      2022-04-16  2022-06-16\n",
      "42022      2023-04-15  2023-06-12\n",
      "\n",
      "[142 rows x 2 columns]\n"
     ]
    },
    {
     "name": "stderr",
     "output_type": "stream",
     "text": [
      "/var/folders/8k/sb8y4xhn07n_0q315_0zwp7m0000gn/T/ipykernel_65655/4168989686.py:2: SettingWithCopyWarning: \n",
      "A value is trying to be set on a copy of a slice from a DataFrame.\n",
      "Try using .loc[row_indexer,col_indexer] = value instead\n",
      "\n",
      "See the caveats in the documentation: https://pandas.pydata.org/pandas-docs/stable/user_guide/indexing.html#returning-a-view-versus-a-copy\n",
      "  filter_out_null_stats_df['game_date'] = pd.to_datetime(filter_out_null_stats_df['game_date'])\n",
      "/var/folders/8k/sb8y4xhn07n_0q315_0zwp7m0000gn/T/ipykernel_65655/4168989686.py:3: SettingWithCopyWarning: \n",
      "A value is trying to be set on a copy of a slice from a DataFrame.\n",
      "Try using .loc[row_indexer,col_indexer] = value instead\n",
      "\n",
      "See the caveats in the documentation: https://pandas.pydata.org/pandas-docs/stable/user_guide/indexing.html#returning-a-view-versus-a-copy\n",
      "  filter_out_null_stats_df['game_date'] = filter_out_null_stats_df['game_date'].dt.date\n"
     ]
    }
   ],
   "source": [
    "# Show the seasons and their min date and max date for non-null stats\n",
    "filter_out_null_stats_df['game_date'] = pd.to_datetime(filter_out_null_stats_df['game_date'])\n",
    "filter_out_null_stats_df['game_date'] = filter_out_null_stats_df['game_date'].dt.date\n",
    "\n",
    "filter_out_null_stats_df['game_date'].describe()\n",
    "\n",
    "game_date_seasonid = filter_out_null_stats_df.groupby(['season_id']).agg({'game_date': ['min', 'max']})\n",
    "print(game_date_seasonid)"
   ]
  },
  {
   "cell_type": "code",
   "execution_count": 55,
   "metadata": {},
   "outputs": [
    {
     "name": "stdout",
     "output_type": "stream",
     "text": [
      "<class 'pandas.core.frame.DataFrame'>\n",
      "game_date  min    datetime64[ns]\n",
      "           max    datetime64[ns]\n",
      "dtype: object\n",
      "   season_id  game_date           \n",
      "                    min        max\n",
      "0      12005 2005-10-10 2005-10-28\n",
      "1      12006 2006-10-05 2006-10-27\n",
      "2      12007 2007-10-06 2007-10-25\n",
      "3      12008 2008-10-05 2008-10-24\n",
      "4      12009 2009-10-01 2009-10-23\n",
      "5      12010 2010-10-03 2010-10-22\n",
      "6      12012 2012-10-05 2012-10-26\n",
      "7      12013 2013-10-05 2013-10-25\n",
      "8      12014 2014-10-04 2014-10-24\n",
      "9      12015 2015-10-02 2015-10-23\n",
      "10     12016 2016-10-01 2016-10-21\n",
      "11     12021 2021-10-03 2021-10-15\n"
     ]
    }
   ],
   "source": [
    "# Show seasonid that have october in date (we will not work with preseason data)\n",
    "\n",
    "print(type(game_date_seasonid))\n",
    "game_date_seasonid[('game_date', 'min')] = pd.to_datetime(game_date_seasonid[('game_date', 'min')])\n",
    "game_date_seasonid[('game_date', 'max')] = pd.to_datetime(game_date_seasonid[('game_date', 'max')])\n",
    "\n",
    "print(game_date_seasonid.dtypes)\n",
    "condition1 = game_date_seasonid[('game_date', 'min')].dt.month == 10\n",
    "condition2 = game_date_seasonid[('game_date', 'max')].dt.month == 10\n",
    "october_seasons = game_date_seasonid.loc[condition1 & condition2]\n",
    "october_seasons = october_seasons.reset_index()\n",
    "print(october_seasons)"
   ]
  },
  {
   "cell_type": "code",
   "execution_count": 58,
   "metadata": {},
   "outputs": [
    {
     "name": "stdout",
     "output_type": "stream",
     "text": [
      "       season_id  team_id_home team_abbreviation_home       team_name_home  \\\n",
      "12256      41977    1610612760                    SEA  Seattle SuperSonics   \n",
      "12257      41977    1610612764                    WAS   Washington Bullets   \n",
      "12258      41977    1610612764                    WAS   Washington Bullets   \n",
      "12259      41977    1610612760                    SEA  Seattle SuperSonics   \n",
      "12260      41977    1610612760                    SEA  Seattle SuperSonics   \n",
      "...          ...           ...                    ...                  ...   \n",
      "65693      42022    1610612748                    MIA           Miami Heat   \n",
      "65694      42022    1610612748                    MIA           Miami Heat   \n",
      "65695      42022    1610612743                    DEN       Denver Nuggets   \n",
      "65696      32022    1610616834                    LBN          Team LeBron   \n",
      "65697      32022    1610616834                    LBN          Team LeBron   \n",
      "\n",
      "        game_id   game_date matchup_home wl_home  min  fgm_home  ...  \\\n",
      "12256  47700045  1978-05-21  SEA vs. WAS       W  240      44.0  ...   \n",
      "12257  47700046  1978-05-25  WAS vs. SEA       W  240      44.0  ...   \n",
      "12258  47700047  1978-05-28  WAS vs. SEA       L  240      36.0  ...   \n",
      "12259  47700048  1978-05-30  SEA vs. WAS       L  265      47.0  ...   \n",
      "12260  47700049  1978-06-02  SEA vs. WAS       W  240      36.0  ...   \n",
      "...         ...         ...          ...     ...  ...       ...  ...   \n",
      "65693  42200403  2023-06-07  MIA vs. DEN       L  240      34.0  ...   \n",
      "65694  42200404  2023-06-09  MIA vs. DEN       L  240      35.0  ...   \n",
      "65695  42200405  2023-06-12  DEN vs. MIA       W  240      38.0  ...   \n",
      "65696  32200001  2023-02-19  LBN vs. GNS       L  221      79.0  ...   \n",
      "65697  32200001  2023-02-19  LBN vs. GNS       L  221      79.0  ...   \n",
      "\n",
      "       reb_away  ast_away  stl_away  blk_away  tov_away  pf_away  pts_away  \\\n",
      "12256      38.0      23.0       6.0       0.0      14.0     22.0     102.0   \n",
      "12257      39.0      18.0       7.0       3.0      18.0     28.0      98.0   \n",
      "12258      54.0      11.0       7.0      13.0      18.0     24.0      93.0   \n",
      "12259      48.0      32.0       7.0       6.0      12.0     28.0     120.0   \n",
      "12260      42.0      20.0       4.0       3.0      18.0     29.0      94.0   \n",
      "...         ...       ...       ...       ...       ...      ...       ...   \n",
      "65693      58.0      28.0       3.0       5.0      14.0     18.0     109.0   \n",
      "65694      34.0      26.0      11.0       7.0       8.0     18.0     108.0   \n",
      "65695      44.0      18.0       9.0       7.0       8.0     21.0      89.0   \n",
      "65696      46.0      43.0       8.0       1.0      12.0      2.0     184.0   \n",
      "65697      46.0      43.0       8.0       1.0      12.0      2.0     184.0   \n",
      "\n",
      "       plus_minus_away  video_available_away  season_type  \n",
      "12256               -4                     0     Playoffs  \n",
      "12257               -8                     0     Playoffs  \n",
      "12258                1                     0     Playoffs  \n",
      "12259                4                     0     Playoffs  \n",
      "12260               -4                     0     Playoffs  \n",
      "...                ...                   ...          ...  \n",
      "65693               15                     1     Playoffs  \n",
      "65694               13                     1     Playoffs  \n",
      "65695               -5                     1     Playoffs  \n",
      "65696                9                     1     All-Star  \n",
      "65697                9                     1     All Star  \n",
      "\n",
      "[45358 rows x 55 columns]\n"
     ]
    }
   ],
   "source": [
    "# Remove preseason data from filtered df\n",
    "\n",
    "filtered_no_preseason_df = filter_out_null_stats_df[~filter_out_null_stats_df['season_id'].isin(october_seasons['season_id'])]\n",
    "\n",
    "print(filtered_no_preseason_df)"
   ]
  }
 ],
 "metadata": {
  "kernelspec": {
   "display_name": "cs5100",
   "language": "python",
   "name": "python3"
  },
  "language_info": {
   "codemirror_mode": {
    "name": "ipython",
    "version": 3
   },
   "file_extension": ".py",
   "mimetype": "text/x-python",
   "name": "python",
   "nbconvert_exporter": "python",
   "pygments_lexer": "ipython3",
   "version": "3.11.5"
  }
 },
 "nbformat": 4,
 "nbformat_minor": 2
}
