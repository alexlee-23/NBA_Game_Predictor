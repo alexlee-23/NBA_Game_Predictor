{
 "cells": [
  {
   "cell_type": "markdown",
   "metadata": {},
   "source": [
    "## Load Data ##"
   ]
  },
  {
   "cell_type": "code",
   "execution_count": null,
   "metadata": {},
   "outputs": [
    {
     "name": "stdout",
     "output_type": "stream",
     "text": [
      "   season_id  team_id_home   game_date  wl_home  fga_home  fg_pct_home  \\\n",
      "0      41979    1610612747  1980-05-07        0      95.0        0.505   \n",
      "1      41979    1610612755  1980-05-10        0      93.0        0.484   \n",
      "2      41979    1610612755  1980-05-16        0      89.0        0.528   \n",
      "3      41980    1610612738  1981-05-05        1      95.0        0.432   \n",
      "4      41980    1610612738  1981-05-07        0      82.0        0.500   \n",
      "\n",
      "   fg3a_home  oreb_home  dreb_home  ast_home  stl_home  blk_home  tov_home  \\\n",
      "0        1.0       15.0       37.0      32.0      12.0       7.0      26.0   \n",
      "1        4.0       13.0       24.0      34.0      12.0       8.0      13.0   \n",
      "2        6.0        7.0       29.0      27.0       4.0      11.0      18.0   \n",
      "3        1.0       25.0       29.0      23.0       6.0       5.0      19.0   \n",
      "4        3.0       14.0       34.0      17.0       6.0       7.0      22.0   \n",
      "\n",
      "   pf_home  team_id_away  fga_away  fg3a_away  oreb_away  dreb_away  ast_away  \\\n",
      "0     27.0    1610612755      85.0        1.0        5.0       29.0      34.0   \n",
      "1     25.0    1610612747      92.0        1.0       22.0       34.0      20.0   \n",
      "2     27.0    1610612747      92.0        2.0       17.0       35.0      27.0   \n",
      "3     21.0    1610612745      99.0        2.0       19.0       23.0      23.0   \n",
      "4     27.0    1610612745      85.0        2.0       13.0       22.0      16.0   \n",
      "\n",
      "   stl_away  blk_away  tov_away  pf_away  \n",
      "0      14.0      11.0      20.0     21.0  \n",
      "1       5.0       5.0      20.0     25.0  \n",
      "2      14.0       4.0      17.0     22.0  \n",
      "3      15.0       3.0      10.0     20.0  \n",
      "4       6.0       8.0       9.0     17.0  \n"
     ]
    },
    {
     "name": "stderr",
     "output_type": "stream",
     "text": [
      "/var/folders/8k/sb8y4xhn07n_0q315_0zwp7m0000gn/T/ipykernel_17249/2734526146.py:9: FutureWarning: Downcasting behavior in `replace` is deprecated and will be removed in a future version. To retain the old behavior, explicitly call `result.infer_objects(copy=False)`. To opt-in to the future behavior, set `pd.set_option('future.no_silent_downcasting', True)`\n",
      "  nba_df['wl_home'] = nba_df['wl_home'].replace({'W': 1, 'L': 0})\n"
     ]
    }
   ],
   "source": [
    "import pickle\n",
    "import pandas as pd\n",
    "import numpy as np\n",
    "\n",
    "def loadNbaData():\n",
    "    with open('NBA_Data_Cleaned_df.pickle', 'rb') as file:\n",
    "        nba_df = pickle.load(file)\n",
    "    nba_df['wl_home'] = nba_df['wl_home'].replace({'W': 1, 'L': 0})\n",
    "    nba_df['season_type'] = nba_df['season_type'].replace({'Regular Season': 1, 'Playoffs': 0})\n",
    "    y = nba_df['wl_home']\n",
    "    X = nba_df.drop(['wl_home', 'season_id', 'game_date'], axis=1)\n",
    "\n",
    "pd.set_option('display.max_columns', None)\n",
    "\n",
    "loadNbaData()"
   ]
  },
  {
   "cell_type": "code",
   "execution_count": 5,
   "metadata": {},
   "outputs": [
    {
     "ename": "ModuleNotFoundError",
     "evalue": "No module named 'Dataset'",
     "output_type": "error",
     "traceback": [
      "\u001b[0;31m---------------------------------------------------------------------------\u001b[0m",
      "\u001b[0;31mModuleNotFoundError\u001b[0m                       Traceback (most recent call last)",
      "Cell \u001b[0;32mIn[5], line 1\u001b[0m\n\u001b[0;32m----> 1\u001b[0m \u001b[38;5;28;01mimport\u001b[39;00m \u001b[38;5;21;01mDataset\u001b[39;00m\n\u001b[1;32m      3\u001b[0m \u001b[38;5;28;01mdef\u001b[39;00m \u001b[38;5;21mNBA_DataSet\u001b[39m(Dataset):\n\u001b[1;32m      4\u001b[0m     \u001b[38;5;28;01mdef\u001b[39;00m \u001b[38;5;21m__init__\u001b[39m(\u001b[38;5;28mself\u001b[39m):\n",
      "\u001b[0;31mModuleNotFoundError\u001b[0m: No module named 'Dataset'"
     ]
    }
   ],
   "source": [
    "import Dataset\n",
    "\n",
    "def NBA_DataSet(Dataset):\n",
    "    def __init__(self):\n",
    "        X,y = loadNbaData()\n",
    "        self.X = X\n",
    "        self.y = y\n",
    "    \n",
    "    "
   ]
  }
 ],
 "metadata": {
  "kernelspec": {
   "display_name": "cs5100",
   "language": "python",
   "name": "python3"
  },
  "language_info": {
   "codemirror_mode": {
    "name": "ipython",
    "version": 3
   },
   "file_extension": ".py",
   "mimetype": "text/x-python",
   "name": "python",
   "nbconvert_exporter": "python",
   "pygments_lexer": "ipython3",
   "version": "3.11.5"
  }
 },
 "nbformat": 4,
 "nbformat_minor": 2
}
