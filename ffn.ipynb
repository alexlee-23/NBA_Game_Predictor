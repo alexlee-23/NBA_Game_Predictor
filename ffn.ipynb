{
 "cells": [
  {
   "cell_type": "markdown",
   "metadata": {},
   "source": [
    "## Load data ##"
   ]
  },
  {
   "cell_type": "code",
   "execution_count": 22,
   "metadata": {},
   "outputs": [
    {
     "name": "stdout",
     "output_type": "stream",
     "text": [
      "Index(['team_id_home', 'fga_home', 'fg3a_home', 'oreb_home', 'dreb_home',\n",
      "       'ast_home', 'stl_home', 'blk_home', 'tov_home', 'pf_home',\n",
      "       'rest_days_home', 'team_id_away', 'fga_away', 'fg3a_away', 'oreb_away',\n",
      "       'dreb_away', 'ast_away', 'stl_away', 'blk_away', 'tov_away', 'pf_away',\n",
      "       'rest_days_away', 'season_type'],\n",
      "      dtype='object')\n",
      "X shape:  (44549, 23)\n",
      "y shape:  (44549,)\n",
      "Home team:  (44549, 10)\n",
      "Away team:  (44549, 10)\n",
      "Season type:  (44549, 1)\n"
     ]
    }
   ],
   "source": [
    "import pickle\n",
    "import pandas as pd\n",
    "import numpy as np\n",
    "\n",
    "def loadNbaData():\n",
    "    with open('NBA_Data_Cleaned_df.pickle', 'rb') as file:\n",
    "        nba_df = pickle.load(file)\n",
    "\n",
    "    with open('teamID_mappings.pickle', 'rb') as file:\n",
    "        team_mappings = pickle.load(file)\n",
    "        teamID_newID_dict = team_mappings['teamID_newID_dict']\n",
    "        \n",
    "    nba_df[['team_id_home', 'team_id_away']] = nba_df[['team_id_home', 'team_id_away']].replace(teamID_newID_dict)\n",
    "\n",
    "    X_df = nba_df.drop(columns=['season_id', 'new_season_id', 'wl_home', 'game_date', 'wl_away', 'fg_pct_home'])\n",
    "    y_df = nba_df.loc[ : , 'wl_home' ]\n",
    "\n",
    "    X_df.insert(10, 'rest_days_home', X_df.pop('rest_days_home'))\n",
    "    X_df.insert(21, 'rest_days_away', X_df.pop('rest_days_away'))\n",
    "\n",
    "    print(X_df.columns)\n",
    "\n",
    "    X = X_df.to_numpy()\n",
    "    y = y_df.to_numpy()\n",
    "\n",
    "    return X,y\n",
    "\n",
    "X,y = loadNbaData()\n",
    "\n",
    "print(\"X shape: \", X.shape)\n",
    "print(\"y shape: \", y.shape)\n",
    "\n",
    "print(\"Home team: \", (X[:,0:10]).shape)\n",
    "print(\"Away team: \", (X[:,11:21]).shape)\n",
    "print(\"Season type: \", (X[:,22:]).shape)"
   ]
  },
  {
   "cell_type": "code",
   "execution_count": 23,
   "metadata": {},
   "outputs": [],
   "source": [
    "import torch \n",
    "\n",
    "X_torch = torch.from_numpy(X)\n",
    "y_torch = torch.from_numpy(y)"
   ]
  },
  {
   "cell_type": "code",
   "execution_count": 24,
   "metadata": {},
   "outputs": [],
   "source": [
    "from torch.utils.data import Dataset, DataLoader\n",
    "\n",
    "class NBADataset(Dataset):\n",
    "    def __init__(self, X_data, y_data):\n",
    "        self.X_data = X_data\n",
    "        self.y_data = y_data\n",
    "\n",
    "    def __len__(self):\n",
    "        return len(self.X_data)\n",
    "\n",
    "    def __getitem__(self, idx):\n",
    "        return self.X_data[idx], self.y_data[idx]"
   ]
  },
  {
   "cell_type": "code",
   "execution_count": 25,
   "metadata": {},
   "outputs": [],
   "source": [
    "from torch.utils.data import random_split\n",
    "\n",
    "dataset = NBADataset(X_torch, y_torch)\n",
    "\n",
    "train_size = int(0.8 * len(dataset))\n",
    "test_size = len(dataset) - train_size\n",
    "\n",
    "train_dataset, test_dataset = random_split(dataset, [train_size, test_size])\n",
    "\n",
    "batch_size = 128\n",
    "\n",
    "train_loader = DataLoader(train_dataset, batch_size=128)\n",
    "test_loader = DataLoader(test_dataset, batch_size=128)"
   ]
  },
  {
   "cell_type": "markdown",
   "metadata": {},
   "source": [
    "## Create FFN module ##"
   ]
  },
  {
   "cell_type": "code",
   "execution_count": null,
   "metadata": {},
   "outputs": [],
   "source": [
    "import torch.nn as nn\n",
    "\n",
    "class FFN(nn.Module):\n",
    "    def __init__(self, input_size, hidden_size, num_classes):\n",
    "        super(FFN, self).__init__()\n",
    "        self.fc1 = nn.Linear(input_size, hidden_size)\n",
    "        self.relu = nn.ReLU()\n",
    "        self.fc2 = nn.Linear(hidden_size, num_classes)\n",
    "\n",
    "    def forward(self, x):\n",
    "        out = self.fc1(x)\n",
    "        out = self.relu(out)\n",
    "        out = self.fc2(out)\n",
    "        return out"
   ]
  }
 ],
 "metadata": {
  "kernelspec": {
   "display_name": "cs5100",
   "language": "python",
   "name": "python3"
  },
  "language_info": {
   "codemirror_mode": {
    "name": "ipython",
    "version": 3
   },
   "file_extension": ".py",
   "mimetype": "text/x-python",
   "name": "python",
   "nbconvert_exporter": "python",
   "pygments_lexer": "ipython3",
   "version": "3.11.10"
  }
 },
 "nbformat": 4,
 "nbformat_minor": 2
}
